{
 "cells": [
  {
   "cell_type": "markdown",
   "metadata": {},
   "source": [
    "## NCBI数据库的编程检索和详细信息筛选"
   ]
  },
  {
   "cell_type": "markdown",
   "metadata": {},
   "source": [
    "NCBI提供了丰富的接口，文档可参考：[文档主目录](https://www.ncbi.nlm.nih.gov/books/NBK25501/) 、 [方法说明和参数设置](https://www.ncbi.nlm.nih.gov/books/NBK25499/) 、 [返回值的可选类型和模式](https://www.ncbi.nlm.nih.gov/books/NBK25499/table/chapter4.T._valid_values_of__retmode_and/?report=objectonly) 以及 [九种接口简介](https://www.ncbi.nlm.nih.gov/books/NBK25497/#chapter2.The_Nine_Eutilities_in_Brief)  \n",
    "\n",
    "本文的一些参考资源（这些资料帮助了我这个很久不写python的假程序员）：  \n",
    "[Lxml库及Xpath语法详解](https://blog.csdn.net/weixin_41601173/article/details/80021977)\n",
    "[How to set the pandas dataframe data left/right alignment?\n",
    "](https://stackoverflow.com/questions/17232013/how-to-set-the-pandas-dataframe-data-left-right-alignment)"
   ]
  },
  {
   "cell_type": "code",
   "execution_count": 99,
   "metadata": {},
   "outputs": [],
   "source": [
    "import requests\n",
    "from lxml import etree\n",
    "import time\n",
    "import os"
   ]
  },
  {
   "cell_type": "markdown",
   "metadata": {},
   "source": [
    "### 设置检索关键词  \n",
    "关键词作为初步检索的条件，待拿到abstract或summary后，可以进一步筛选信息"
   ]
  },
  {
   "cell_type": "code",
   "execution_count": 110,
   "metadata": {},
   "outputs": [],
   "source": [
    "key_word =  '((colon cancer) OR (colorectal cancer) OR (rectal cancer)) and ((radiation) OR (radiotherapy))'\n",
    "# 'SI[gene]+AND+cancer'"
   ]
  },
  {
   "cell_type": "markdown",
   "metadata": {},
   "source": [
    "### 检索PubMed"
   ]
  },
  {
   "cell_type": "markdown",
   "metadata": {},
   "source": [
    "#### 1 查询"
   ]
  },
  {
   "cell_type": "code",
   "execution_count": 100,
   "metadata": {},
   "outputs": [],
   "source": [
    "search_results = requests.get('https://eutils.ncbi.nlm.nih.gov/entrez/eutils/esearch.fcgi',\n",
    "             params={'db': 'pubmed',\n",
    "                     'term': key_word,\n",
    "                     'usehistory':'y',\n",
    "                     'RetMax':'10',\n",
    "                    })\n",
    "body=search_results.text\n",
    "xml=etree.XML(body.encode(),etree.XMLParser())\n",
    "webenv = xml.xpath('//WebEnv/text()')\n",
    "QueryKey = xml.xpath('//QueryKey/text()')"
   ]
  },
  {
   "cell_type": "markdown",
   "metadata": {},
   "source": [
    "#### 2 获取Summary  \n",
    "Summary为XML格式结构化的完整信息"
   ]
  },
  {
   "cell_type": "code",
   "execution_count": 101,
   "metadata": {},
   "outputs": [],
   "source": [
    "summary_results = requests.get('https://eutils.ncbi.nlm.nih.gov/entrez/eutils/esummary.fcgi',\n",
    "             params={'Query_key':QueryKey ,\n",
    "                     'db': 'pubmed',\n",
    "                     'WebEnv': webenv,\n",
    "                     'retmode': 'text',\n",
    "                     'version': '2.0'\n",
    "                    })\n",
    "body=summary_results.text\n",
    "if (os.path.exists(\"PubMed\") == False):\n",
    "    os.mkdir(\"PubMed\")\n",
    "file_name = \"PubMed/summary_results_\" + time.strftime(\"%Y%m%d_%H.%M\", time.localtime()) + \".txt\"\n",
    "with open(file_name,\"w\",encoding='utf-8') as txt:\n",
    "    txt.write(body)"
   ]
  },
  {
   "cell_type": "markdown",
   "metadata": {},
   "source": [
    "#### 3 获取Fetch  \n",
    "Fetch为非结构化的文本列表，pubmed的abstract主要使用这种方式获取"
   ]
  },
  {
   "cell_type": "code",
   "execution_count": 102,
   "metadata": {},
   "outputs": [],
   "source": [
    "fetch_results = requests.get('https://eutils.ncbi.nlm.nih.gov/entrez/eutils/efetch.fcgi',\n",
    "             params={'Query_key':QueryKey ,\n",
    "                     'db': 'pubmed',\n",
    "                     'WebEnv': webenv,\n",
    "                     'rettype': 'abstract',\n",
    "                     #'rettype': 'Summary',\n",
    "                     'retmode': 'text'\n",
    "                    })\n",
    "body=fetch_results.text\n",
    "if (os.path.exists(\"PubMed\") == False):\n",
    "    os.mkdir(\"PubMed\")\n",
    "file_name = \"PubMed/fetch_results_\" + time.strftime(\"%Y%m%d_%H.%M\", time.localtime()) + \".txt\"\n",
    "with open(file_name,\"w\",encoding='utf-8') as txt:\n",
    "    txt.write(body)"
   ]
  },
  {
   "cell_type": "markdown",
   "metadata": {},
   "source": [
    "### 检索GEO"
   ]
  },
  {
   "cell_type": "markdown",
   "metadata": {},
   "source": [
    "#### 1 查询"
   ]
  },
  {
   "cell_type": "code",
   "execution_count": 108,
   "metadata": {},
   "outputs": [],
   "source": [
    "search_results = requests.get('https://eutils.ncbi.nlm.nih.gov/entrez/eutils/esearch.fcgi',\n",
    "             params={'db': 'gds',\n",
    "                     'term': key_word,\n",
    "                     'usehistory':'y',\n",
    "                     'RetMax':'10',\n",
    "                    })\n",
    "body=search_results.text\n",
    "xml=etree.XML(body.encode(),etree.XMLParser())\n",
    "webenv = xml.xpath('//WebEnv/text()')\n",
    "QueryKey = xml.xpath('//QueryKey/text()')"
   ]
  },
  {
   "cell_type": "markdown",
   "metadata": {},
   "source": [
    "#### 2 获取Summary  \n",
    "Summary为XML格式结构化的完整信息，GEO的summary信息量较大"
   ]
  },
  {
   "cell_type": "code",
   "execution_count": 106,
   "metadata": {},
   "outputs": [],
   "source": [
    "summary_results = requests.get('https://eutils.ncbi.nlm.nih.gov/entrez/eutils/esummary.fcgi',\n",
    "             params={'Query_key':QueryKey ,\n",
    "                     'db': 'gds',\n",
    "                     'WebEnv': webenv,\n",
    "                     'retmode': 'text',\n",
    "                     'version': '2.0'\n",
    "                    })\n",
    "body=summary_results.text\n",
    "if (os.path.exists(\"GEO\") == False):\n",
    "    os.mkdir(\"GEO\")\n",
    "file_name = \"GEO/summary_results_\" + time.strftime(\"%Y%m%d_%H.%M\", time.localtime()) + \".txt\"\n",
    "with open(file_name,\"w\",encoding='utf-8') as txt:\n",
    "    txt.write(body)"
   ]
  },
  {
   "cell_type": "markdown",
   "metadata": {},
   "source": [
    "#### 3 获取Fetch  \n",
    "Fetch为非结构化的文本列表"
   ]
  },
  {
   "cell_type": "code",
   "execution_count": 109,
   "metadata": {},
   "outputs": [],
   "source": [
    "fetch_results = requests.get('https://eutils.ncbi.nlm.nih.gov/entrez/eutils/efetch.fcgi',\n",
    "             params={'Query_key':QueryKey ,\n",
    "                     'db': 'gds',\n",
    "                     'WebEnv': webenv,\n",
    "                     'rettype': 'Summary',\n",
    "                     'retmode': 'text'\n",
    "                    })\n",
    "body=fetch_results.text\n",
    "if (os.path.exists(\"GEO\") == False):\n",
    "    os.mkdir(\"GEO\")\n",
    "file_name = \"GEO/fetch_results_\" + time.strftime(\"%Y%m%d_%H.%M\", time.localtime()) + \".txt\"\n",
    "with open(file_name,\"w\",encoding='utf-8') as txt:\n",
    "    txt.write(body)"
   ]
  },
  {
   "cell_type": "markdown",
   "metadata": {},
   "source": [
    "### 检索结果的进一步筛选"
   ]
  },
  {
   "cell_type": "code",
   "execution_count": 196,
   "metadata": {},
   "outputs": [],
   "source": [
    "body = summary_results.text\n",
    "xml=etree.XML(body.encode(),etree.XMLParser())\n",
    "summary = xml.xpath('//summary/text()')\n",
    "\n",
    "title = xml.xpath('//title/text()')\n",
    "DocumentSummary = xml.xpath('./DocumentSummarySet/DocumentSummary')\n",
    "# len(DocumentSummary)\n",
    "# 1150\n",
    "\n",
    "# 下面循环可以写成 map 的形式，构建的函数需传入两个参数：一个是索引（数字），另一个是标签（字符串）\n",
    "# 各个编程语言中非常重要的三种编程习惯：map用于简化“可并行”关系的循环，reduce用于简化“需串行”关系的循环，lambda用于匿名函数。\n",
    "# 这种习惯借鉴于函数式编程（但严格的函数式编程是不允许命令式步骤的代码出现的），此外，其他的高级函数也可以多使用，比如filter、sort等\n",
    "# 顺便回顾下java中的lambda写法，不仅可以实现匿名函数，还可以用于实现匿名内部类\n",
    "# java中的lambda实现内部类可参考：https://www.cnblogs.com/coprince/p/8692972.html\n",
    "search_range = range(0,len(DocumentSummary))\n",
    "Accession = [\"\" for i in search_range]\n",
    "title = [\"\" for i in search_range]\n",
    "PDAT = [\"\" for i in search_range]\n",
    "for i in search_range:\n",
    "    Accession[i] = DocumentSummary[i].xpath('./Accession/text()')\n",
    "    title[i] = DocumentSummary[i].xpath('./title/text()')\n",
    "    PDAT[i] = DocumentSummary[i].xpath('./PDAT/text()')"
   ]
  },
  {
   "cell_type": "code",
   "execution_count": 114,
   "metadata": {},
   "outputs": [
    {
     "data": {
      "text/plain": [
       "'We report the genome-wide effects of KAP1 loss on the transcriptome, the chromatin state, and on recruitment of various components of the transcription machinery in the colon colorectal cancer cell line HCT116.'"
      ]
     },
     "execution_count": 114,
     "metadata": {},
     "output_type": "execute_result"
    }
   ],
   "source": [
    "summary[1]"
   ]
  },
  {
   "cell_type": "code",
   "execution_count": 197,
   "metadata": {},
   "outputs": [],
   "source": [
    "import re\n",
    "n_pattens = 5\n",
    "patterns = [re.compile('colon cancer'),\n",
    "           re.compile('rectal cancer'),\n",
    "           re.compile('radiation'),\n",
    "           re.compile('radiotherapy'),\n",
    "           re.compile('after')]\n",
    "\n",
    "def match_info(data):\n",
    "    \n",
    "    results = False\n",
    "    match_results = [0 for i in range(n_pattens)]\n",
    "    for i in range(n_pattens):\n",
    "        match_results[i] = len(re.findall(patterns[i],data))\n",
    "    \n",
    "    if ( (match_results[0] > 0 or match_results[1] > 0) and (match_results[2] > 0 or match_results[3] > 0) and (match_results[4] > 0) ):\n",
    "        results = True\n",
    "        \n",
    "    return(results)"
   ]
  },
  {
   "cell_type": "code",
   "execution_count": 198,
   "metadata": {},
   "outputs": [],
   "source": [
    "# 当然，下面的循环可以写成 map 的形式（python里的map和R里面的map都是差不多的）\n",
    "# 对于过滤符合搜索要求的数据，可以结合 filter 进行处理\n",
    "# 写法如下：\n",
    "# search_results = map(match_info, summary)\n",
    "# match_index = list(filter( (lambda i : search_results[i]), search_range))\n",
    "## 为了结构清晰，也可以先将lambda表达式定义成变量再传入filter，如index_bool = lambda i : search_results[i]\n",
    "# Accession_match = Accession[match_index][0]\n",
    "# Title_match = title[match_index][0]\n",
    "# PDAT_match = PDAT[match_index][0]\n",
    "#------------------------------------ for 写法 ------------------------------------\n",
    "search_results = [ False for i in search_range]\n",
    "Accession_match = []\n",
    "Title_match = []\n",
    "PDAT_match = []\n",
    "for i in search_range:\n",
    "    search_results[i] = match_info(summary[i])\n",
    "    if (search_results[i]==True):\n",
    "        Accession_match.extend([Accession[i][0]])\n",
    "        Title_match.extend([title[i][0]])\n",
    "        PDAT_match.extend([PDAT[i][0]])"
   ]
  },
  {
   "cell_type": "code",
   "execution_count": 200,
   "metadata": {
    "scrolled": true
   },
   "outputs": [
    {
     "data": {
      "text/html": [
       "<style  type=\"text/css\" >\n",
       "    #T_88a1a89a_87ce_11ea_abbd_5eea1d51d353 th {\n",
       "          text-align: center;\n",
       "    }    #T_88a1a89a_87ce_11ea_abbd_5eea1d51d353row0_col0 {\n",
       "            text-align:  left;\n",
       "        }    #T_88a1a89a_87ce_11ea_abbd_5eea1d51d353row0_col1 {\n",
       "            text-align:  left;\n",
       "        }    #T_88a1a89a_87ce_11ea_abbd_5eea1d51d353row0_col2 {\n",
       "            text-align:  left;\n",
       "        }    #T_88a1a89a_87ce_11ea_abbd_5eea1d51d353row1_col0 {\n",
       "            text-align:  left;\n",
       "        }    #T_88a1a89a_87ce_11ea_abbd_5eea1d51d353row1_col1 {\n",
       "            text-align:  left;\n",
       "        }    #T_88a1a89a_87ce_11ea_abbd_5eea1d51d353row1_col2 {\n",
       "            text-align:  left;\n",
       "        }    #T_88a1a89a_87ce_11ea_abbd_5eea1d51d353row2_col0 {\n",
       "            text-align:  left;\n",
       "        }    #T_88a1a89a_87ce_11ea_abbd_5eea1d51d353row2_col1 {\n",
       "            text-align:  left;\n",
       "        }    #T_88a1a89a_87ce_11ea_abbd_5eea1d51d353row2_col2 {\n",
       "            text-align:  left;\n",
       "        }    #T_88a1a89a_87ce_11ea_abbd_5eea1d51d353row3_col0 {\n",
       "            text-align:  left;\n",
       "        }    #T_88a1a89a_87ce_11ea_abbd_5eea1d51d353row3_col1 {\n",
       "            text-align:  left;\n",
       "        }    #T_88a1a89a_87ce_11ea_abbd_5eea1d51d353row3_col2 {\n",
       "            text-align:  left;\n",
       "        }    #T_88a1a89a_87ce_11ea_abbd_5eea1d51d353row4_col0 {\n",
       "            text-align:  left;\n",
       "        }    #T_88a1a89a_87ce_11ea_abbd_5eea1d51d353row4_col1 {\n",
       "            text-align:  left;\n",
       "        }    #T_88a1a89a_87ce_11ea_abbd_5eea1d51d353row4_col2 {\n",
       "            text-align:  left;\n",
       "        }    #T_88a1a89a_87ce_11ea_abbd_5eea1d51d353row5_col0 {\n",
       "            text-align:  left;\n",
       "        }    #T_88a1a89a_87ce_11ea_abbd_5eea1d51d353row5_col1 {\n",
       "            text-align:  left;\n",
       "        }    #T_88a1a89a_87ce_11ea_abbd_5eea1d51d353row5_col2 {\n",
       "            text-align:  left;\n",
       "        }    #T_88a1a89a_87ce_11ea_abbd_5eea1d51d353row6_col0 {\n",
       "            text-align:  left;\n",
       "        }    #T_88a1a89a_87ce_11ea_abbd_5eea1d51d353row6_col1 {\n",
       "            text-align:  left;\n",
       "        }    #T_88a1a89a_87ce_11ea_abbd_5eea1d51d353row6_col2 {\n",
       "            text-align:  left;\n",
       "        }    #T_88a1a89a_87ce_11ea_abbd_5eea1d51d353row7_col0 {\n",
       "            text-align:  left;\n",
       "        }    #T_88a1a89a_87ce_11ea_abbd_5eea1d51d353row7_col1 {\n",
       "            text-align:  left;\n",
       "        }    #T_88a1a89a_87ce_11ea_abbd_5eea1d51d353row7_col2 {\n",
       "            text-align:  left;\n",
       "        }    #T_88a1a89a_87ce_11ea_abbd_5eea1d51d353row8_col0 {\n",
       "            text-align:  left;\n",
       "        }    #T_88a1a89a_87ce_11ea_abbd_5eea1d51d353row8_col1 {\n",
       "            text-align:  left;\n",
       "        }    #T_88a1a89a_87ce_11ea_abbd_5eea1d51d353row8_col2 {\n",
       "            text-align:  left;\n",
       "        }    #T_88a1a89a_87ce_11ea_abbd_5eea1d51d353row9_col0 {\n",
       "            text-align:  left;\n",
       "        }    #T_88a1a89a_87ce_11ea_abbd_5eea1d51d353row9_col1 {\n",
       "            text-align:  left;\n",
       "        }    #T_88a1a89a_87ce_11ea_abbd_5eea1d51d353row9_col2 {\n",
       "            text-align:  left;\n",
       "        }    #T_88a1a89a_87ce_11ea_abbd_5eea1d51d353row10_col0 {\n",
       "            text-align:  left;\n",
       "        }    #T_88a1a89a_87ce_11ea_abbd_5eea1d51d353row10_col1 {\n",
       "            text-align:  left;\n",
       "        }    #T_88a1a89a_87ce_11ea_abbd_5eea1d51d353row10_col2 {\n",
       "            text-align:  left;\n",
       "        }    #T_88a1a89a_87ce_11ea_abbd_5eea1d51d353row11_col0 {\n",
       "            text-align:  left;\n",
       "        }    #T_88a1a89a_87ce_11ea_abbd_5eea1d51d353row11_col1 {\n",
       "            text-align:  left;\n",
       "        }    #T_88a1a89a_87ce_11ea_abbd_5eea1d51d353row11_col2 {\n",
       "            text-align:  left;\n",
       "        }    #T_88a1a89a_87ce_11ea_abbd_5eea1d51d353row12_col0 {\n",
       "            text-align:  left;\n",
       "        }    #T_88a1a89a_87ce_11ea_abbd_5eea1d51d353row12_col1 {\n",
       "            text-align:  left;\n",
       "        }    #T_88a1a89a_87ce_11ea_abbd_5eea1d51d353row12_col2 {\n",
       "            text-align:  left;\n",
       "        }    #T_88a1a89a_87ce_11ea_abbd_5eea1d51d353row13_col0 {\n",
       "            text-align:  left;\n",
       "        }    #T_88a1a89a_87ce_11ea_abbd_5eea1d51d353row13_col1 {\n",
       "            text-align:  left;\n",
       "        }    #T_88a1a89a_87ce_11ea_abbd_5eea1d51d353row13_col2 {\n",
       "            text-align:  left;\n",
       "        }    #T_88a1a89a_87ce_11ea_abbd_5eea1d51d353row14_col0 {\n",
       "            text-align:  left;\n",
       "        }    #T_88a1a89a_87ce_11ea_abbd_5eea1d51d353row14_col1 {\n",
       "            text-align:  left;\n",
       "        }    #T_88a1a89a_87ce_11ea_abbd_5eea1d51d353row14_col2 {\n",
       "            text-align:  left;\n",
       "        }    #T_88a1a89a_87ce_11ea_abbd_5eea1d51d353row15_col0 {\n",
       "            text-align:  left;\n",
       "        }    #T_88a1a89a_87ce_11ea_abbd_5eea1d51d353row15_col1 {\n",
       "            text-align:  left;\n",
       "        }    #T_88a1a89a_87ce_11ea_abbd_5eea1d51d353row15_col2 {\n",
       "            text-align:  left;\n",
       "        }    #T_88a1a89a_87ce_11ea_abbd_5eea1d51d353row16_col0 {\n",
       "            text-align:  left;\n",
       "        }    #T_88a1a89a_87ce_11ea_abbd_5eea1d51d353row16_col1 {\n",
       "            text-align:  left;\n",
       "        }    #T_88a1a89a_87ce_11ea_abbd_5eea1d51d353row16_col2 {\n",
       "            text-align:  left;\n",
       "        }    #T_88a1a89a_87ce_11ea_abbd_5eea1d51d353row17_col0 {\n",
       "            text-align:  left;\n",
       "        }    #T_88a1a89a_87ce_11ea_abbd_5eea1d51d353row17_col1 {\n",
       "            text-align:  left;\n",
       "        }    #T_88a1a89a_87ce_11ea_abbd_5eea1d51d353row17_col2 {\n",
       "            text-align:  left;\n",
       "        }</style>  \n",
       "<table id=\"T_88a1a89a_87ce_11ea_abbd_5eea1d51d353\" > \n",
       "<thead>    <tr> \n",
       "        <th class=\"blank level0\" ></th> \n",
       "        <th class=\"col_heading level0 col0\" >Accession</th> \n",
       "        <th class=\"col_heading level0 col1\" >Title</th> \n",
       "        <th class=\"col_heading level0 col2\" >Date</th> \n",
       "    </tr></thead> \n",
       "<tbody>    <tr> \n",
       "        <th id=\"T_88a1a89a_87ce_11ea_abbd_5eea1d51d353level0_row0\" class=\"row_heading level0 row0\" >0</th> \n",
       "        <td id=\"T_88a1a89a_87ce_11ea_abbd_5eea1d51d353row0_col0\" class=\"data row0 col0\" >GSE139995</td> \n",
       "        <td id=\"T_88a1a89a_87ce_11ea_abbd_5eea1d51d353row0_col1\" class=\"data row0 col1\" >WNT activated cells are the origin of regrowth of colorectal cancer organoids after irradiation</td> \n",
       "        <td id=\"T_88a1a89a_87ce_11ea_abbd_5eea1d51d353row0_col2\" class=\"data row0 col2\" >2019/11/07</td> \n",
       "    </tr>    <tr> \n",
       "        <th id=\"T_88a1a89a_87ce_11ea_abbd_5eea1d51d353level0_row1\" class=\"row_heading level0 row1\" >1</th> \n",
       "        <td id=\"T_88a1a89a_87ce_11ea_abbd_5eea1d51d353row1_col0\" class=\"data row1 col0\" >GSE87211</td> \n",
       "        <td id=\"T_88a1a89a_87ce_11ea_abbd_5eea1d51d353row1_col1\" class=\"data row1 col1\" >Colorectal cancer susceptibility loci as predictive markers of rectal cancer prognosis after surgery</td> \n",
       "        <td id=\"T_88a1a89a_87ce_11ea_abbd_5eea1d51d353row1_col2\" class=\"data row1 col2\" >2017/11/28</td> \n",
       "    </tr>    <tr> \n",
       "        <th id=\"T_88a1a89a_87ce_11ea_abbd_5eea1d51d353level0_row2\" class=\"row_heading level0 row2\" >2</th> \n",
       "        <td id=\"T_88a1a89a_87ce_11ea_abbd_5eea1d51d353row2_col0\" class=\"data row2 col0\" >GSE103178</td> \n",
       "        <td id=\"T_88a1a89a_87ce_11ea_abbd_5eea1d51d353row2_col1\" class=\"data row2 col1\" >Gene expression profile of colorectal cancer HCT116 cells treated with single (2Gy) or fractionated (5 x 2Gy) doses of ionizing radiation.</td> \n",
       "        <td id=\"T_88a1a89a_87ce_11ea_abbd_5eea1d51d353row2_col2\" class=\"data row2 col2\" >2017/08/29</td> \n",
       "    </tr>    <tr> \n",
       "        <th id=\"T_88a1a89a_87ce_11ea_abbd_5eea1d51d353level0_row3\" class=\"row_heading level0 row3\" >3</th> \n",
       "        <td id=\"T_88a1a89a_87ce_11ea_abbd_5eea1d51d353row3_col0\" class=\"data row3 col0\" >GSE98959</td> \n",
       "        <td id=\"T_88a1a89a_87ce_11ea_abbd_5eea1d51d353row3_col1\" class=\"data row3 col1\" >MicroRNA expression in preoperative chemoradiotherapy for rectal cancer (LARC)</td> \n",
       "        <td id=\"T_88a1a89a_87ce_11ea_abbd_5eea1d51d353row3_col2\" class=\"data row3 col2\" >2017/05/17</td> \n",
       "    </tr>    <tr> \n",
       "        <th id=\"T_88a1a89a_87ce_11ea_abbd_5eea1d51d353level0_row4\" class=\"row_heading level0 row4\" >4</th> \n",
       "        <td id=\"T_88a1a89a_87ce_11ea_abbd_5eea1d51d353row4_col0\" class=\"data row4 col0\" >GSE93228</td> \n",
       "        <td id=\"T_88a1a89a_87ce_11ea_abbd_5eea1d51d353row4_col1\" class=\"data row4 col1\" >Cell lines iPSC CRL1831 (induced pluripotent stem cells) and CSC DLD1 (cancer stem-like cells)  derived from normal colon CRL1831 and colorectal cancer DLD-1 cells in 3D cell culture conditions and subjected to ionizing radiation doses</td> \n",
       "        <td id=\"T_88a1a89a_87ce_11ea_abbd_5eea1d51d353row4_col2\" class=\"data row4 col2\" >2017/01/07</td> \n",
       "    </tr>    <tr> \n",
       "        <th id=\"T_88a1a89a_87ce_11ea_abbd_5eea1d51d353level0_row5\" class=\"row_heading level0 row5\" >5</th> \n",
       "        <td id=\"T_88a1a89a_87ce_11ea_abbd_5eea1d51d353row5_col0\" class=\"data row5 col0\" >GSE60331</td> \n",
       "        <td id=\"T_88a1a89a_87ce_11ea_abbd_5eea1d51d353row5_col1\" class=\"data row5 col1\" >Combining bevacizumab and chemoradiation in rectal cancer. Translational results of the AXEBeam trial.</td> \n",
       "        <td id=\"T_88a1a89a_87ce_11ea_abbd_5eea1d51d353row5_col2\" class=\"data row5 col2\" >2016/08/02</td> \n",
       "    </tr>    <tr> \n",
       "        <th id=\"T_88a1a89a_87ce_11ea_abbd_5eea1d51d353level0_row6\" class=\"row_heading level0 row6\" >6</th> \n",
       "        <td id=\"T_88a1a89a_87ce_11ea_abbd_5eea1d51d353row6_col0\" class=\"data row6 col0\" >GSE65622</td> \n",
       "        <td id=\"T_88a1a89a_87ce_11ea_abbd_5eea1d51d353row6_col1\" class=\"data row6 col1\" >Locally Advanced Rectal Cancer - Radiation Response Prediction Study - Serum Proteins</td> \n",
       "        <td id=\"T_88a1a89a_87ce_11ea_abbd_5eea1d51d353row6_col2\" class=\"data row6 col2\" >2016/04/21</td> \n",
       "    </tr>    <tr> \n",
       "        <th id=\"T_88a1a89a_87ce_11ea_abbd_5eea1d51d353level0_row7\" class=\"row_heading level0 row7\" >7</th> \n",
       "        <td id=\"T_88a1a89a_87ce_11ea_abbd_5eea1d51d353row7_col0\" class=\"data row7 col0\" >GSE75867</td> \n",
       "        <td id=\"T_88a1a89a_87ce_11ea_abbd_5eea1d51d353row7_col1\" class=\"data row7 col1\" >Transient activation of the WNT pathway after disruption/remodeling of colorectal cancer cell clusters promotes a malignant phenotype</td> \n",
       "        <td id=\"T_88a1a89a_87ce_11ea_abbd_5eea1d51d353row7_col2\" class=\"data row7 col2\" >2015/12/10</td> \n",
       "    </tr>    <tr> \n",
       "        <th id=\"T_88a1a89a_87ce_11ea_abbd_5eea1d51d353level0_row8\" class=\"row_heading level0 row8\" >8</th> \n",
       "        <td id=\"T_88a1a89a_87ce_11ea_abbd_5eea1d51d353row8_col0\" class=\"data row8 col0\" >GSE52413</td> \n",
       "        <td id=\"T_88a1a89a_87ce_11ea_abbd_5eea1d51d353row8_col1\" class=\"data row8 col1\" >lncRNAs expression signatures of colon cancer</td> \n",
       "        <td id=\"T_88a1a89a_87ce_11ea_abbd_5eea1d51d353row8_col2\" class=\"data row8 col2\" >2013/11/16</td> \n",
       "    </tr>    <tr> \n",
       "        <th id=\"T_88a1a89a_87ce_11ea_abbd_5eea1d51d353level0_row9\" class=\"row_heading level0 row9\" >9</th> \n",
       "        <td id=\"T_88a1a89a_87ce_11ea_abbd_5eea1d51d353row9_col0\" class=\"data row9 col0\" >GSE29298</td> \n",
       "        <td id=\"T_88a1a89a_87ce_11ea_abbd_5eea1d51d353row9_col1\" class=\"data row9 col1\" >A specific miRNA signature correlates with complete pathological response to neoadjuvant chemo-radiotherapy in locally advanced rectal cancer</td> \n",
       "        <td id=\"T_88a1a89a_87ce_11ea_abbd_5eea1d51d353row9_col2\" class=\"data row9 col2\" >2012/04/25</td> \n",
       "    </tr>    <tr> \n",
       "        <th id=\"T_88a1a89a_87ce_11ea_abbd_5eea1d51d353level0_row10\" class=\"row_heading level0 row10\" >10</th> \n",
       "        <td id=\"T_88a1a89a_87ce_11ea_abbd_5eea1d51d353row10_col0\" class=\"data row10 col0\" >GSE15781</td> \n",
       "        <td id=\"T_88a1a89a_87ce_11ea_abbd_5eea1d51d353row10_col1\" class=\"data row10 col1\" >New specific molecular targets for radiochemotherapy in colorectal cancer</td> \n",
       "        <td id=\"T_88a1a89a_87ce_11ea_abbd_5eea1d51d353row10_col2\" class=\"data row10 col2\" >2009/04/23</td> \n",
       "    </tr>    <tr> \n",
       "        <th id=\"T_88a1a89a_87ce_11ea_abbd_5eea1d51d353level0_row11\" class=\"row_heading level0 row11\" >11</th> \n",
       "        <td id=\"T_88a1a89a_87ce_11ea_abbd_5eea1d51d353row11_col0\" class=\"data row11 col0\" >GSE801</td> \n",
       "        <td id=\"T_88a1a89a_87ce_11ea_abbd_5eea1d51d353row11_col1\" class=\"data row11 col1\" >HCT116-Clone2 cells 24 hours after XR treatment at 4 Gy</td> \n",
       "        <td id=\"T_88a1a89a_87ce_11ea_abbd_5eea1d51d353row11_col2\" class=\"data row11 col2\" >2004/06/04</td> \n",
       "    </tr>    <tr> \n",
       "        <th id=\"T_88a1a89a_87ce_11ea_abbd_5eea1d51d353level0_row12\" class=\"row_heading level0 row12\" >12</th> \n",
       "        <td id=\"T_88a1a89a_87ce_11ea_abbd_5eea1d51d353row12_col0\" class=\"data row12 col0\" >GSE800</td> \n",
       "        <td id=\"T_88a1a89a_87ce_11ea_abbd_5eea1d51d353row12_col1\" class=\"data row12 col1\" >HCT116-Clone2 cells 6 hours after XR treatment at 4 Gy</td> \n",
       "        <td id=\"T_88a1a89a_87ce_11ea_abbd_5eea1d51d353row12_col2\" class=\"data row12 col2\" >2004/06/04</td> \n",
       "    </tr>    <tr> \n",
       "        <th id=\"T_88a1a89a_87ce_11ea_abbd_5eea1d51d353level0_row13\" class=\"row_heading level0 row13\" >13</th> \n",
       "        <td id=\"T_88a1a89a_87ce_11ea_abbd_5eea1d51d353row13_col0\" class=\"data row13 col0\" >GSE799</td> \n",
       "        <td id=\"T_88a1a89a_87ce_11ea_abbd_5eea1d51d353row13_col1\" class=\"data row13 col1\" >HCT116-Clone2 cells 10 min after XR treatment at 4 Gy</td> \n",
       "        <td id=\"T_88a1a89a_87ce_11ea_abbd_5eea1d51d353row13_col2\" class=\"data row13 col2\" >2004/06/04</td> \n",
       "    </tr>    <tr> \n",
       "        <th id=\"T_88a1a89a_87ce_11ea_abbd_5eea1d51d353level0_row14\" class=\"row_heading level0 row14\" >14</th> \n",
       "        <td id=\"T_88a1a89a_87ce_11ea_abbd_5eea1d51d353row14_col0\" class=\"data row14 col0\" >GSE526</td> \n",
       "        <td id=\"T_88a1a89a_87ce_11ea_abbd_5eea1d51d353row14_col1\" class=\"data row14 col1\" >HCT116-CloneK cells 24 hours after XR treatment at 4 Gy</td> \n",
       "        <td id=\"T_88a1a89a_87ce_11ea_abbd_5eea1d51d353row14_col2\" class=\"data row14 col2\" >2003/12/08</td> \n",
       "    </tr>    <tr> \n",
       "        <th id=\"T_88a1a89a_87ce_11ea_abbd_5eea1d51d353level0_row15\" class=\"row_heading level0 row15\" >15</th> \n",
       "        <td id=\"T_88a1a89a_87ce_11ea_abbd_5eea1d51d353row15_col0\" class=\"data row15 col0\" >GSE525</td> \n",
       "        <td id=\"T_88a1a89a_87ce_11ea_abbd_5eea1d51d353row15_col1\" class=\"data row15 col1\" >HCT116-CloneK cells 6 hours after XR treatment at 4 Gy</td> \n",
       "        <td id=\"T_88a1a89a_87ce_11ea_abbd_5eea1d51d353row15_col2\" class=\"data row15 col2\" >2003/12/08</td> \n",
       "    </tr>    <tr> \n",
       "        <th id=\"T_88a1a89a_87ce_11ea_abbd_5eea1d51d353level0_row16\" class=\"row_heading level0 row16\" >16</th> \n",
       "        <td id=\"T_88a1a89a_87ce_11ea_abbd_5eea1d51d353row16_col0\" class=\"data row16 col0\" >GSE524</td> \n",
       "        <td id=\"T_88a1a89a_87ce_11ea_abbd_5eea1d51d353row16_col1\" class=\"data row16 col1\" >HCT116-CloneK cells 10 minutes after XR treatment at 4 Gy</td> \n",
       "        <td id=\"T_88a1a89a_87ce_11ea_abbd_5eea1d51d353row16_col2\" class=\"data row16 col2\" >2003/12/08</td> \n",
       "    </tr>    <tr> \n",
       "        <th id=\"T_88a1a89a_87ce_11ea_abbd_5eea1d51d353level0_row17\" class=\"row_heading level0 row17\" >17</th> \n",
       "        <td id=\"T_88a1a89a_87ce_11ea_abbd_5eea1d51d353row17_col0\" class=\"data row17 col0\" >GSE522</td> \n",
       "        <td id=\"T_88a1a89a_87ce_11ea_abbd_5eea1d51d353row17_col1\" class=\"data row17 col1\" >X-radiation (XR) sensitive HCT116-CloneK: XR at 0 and 4 Gy</td> \n",
       "        <td id=\"T_88a1a89a_87ce_11ea_abbd_5eea1d51d353row17_col2\" class=\"data row17 col2\" >2003/12/08</td> \n",
       "    </tr></tbody> \n",
       "</table> "
      ],
      "text/plain": [
       "<pandas.io.formats.style.Styler at 0x1983d389208>"
      ]
     },
     "execution_count": 200,
     "metadata": {},
     "output_type": "execute_result"
    }
   ],
   "source": [
    "import pandas as pd\n",
    "Match_results = pd.DataFrame({\n",
    "    'Accession': Accession_match,\n",
    "    'Title': Title_match,\n",
    "    'Date': PDAT_match\n",
    "})\n",
    "\n",
    "pd.set_option('max_colwidth',50)\n",
    "pd.set_option('expand_frame_repr', True)\n",
    "dfStyler = Match_results.style.set_properties(**{'text-align': 'left'})\n",
    "dfStyler.set_table_styles([dict(selector='th', props=[('text-align', 'center')])])\n",
    "dfStyler"
   ]
  }
 ],
 "metadata": {
  "kernelspec": {
   "display_name": "Python 3",
   "language": "python",
   "name": "python3"
  },
  "language_info": {
   "codemirror_mode": {
    "name": "ipython",
    "version": 3
   },
   "file_extension": ".py",
   "mimetype": "text/x-python",
   "name": "python",
   "nbconvert_exporter": "python",
   "pygments_lexer": "ipython3",
   "version": "3.6.5"
  }
 },
 "nbformat": 4,
 "nbformat_minor": 2
}
